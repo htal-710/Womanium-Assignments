{
 "cells": [
  {
   "cell_type": "markdown",
   "metadata": {
    "deletable": false,
    "editable": false,
    "nbgrader": {
     "cell_type": "markdown",
     "checksum": "ac08d7ea268ce6a20a0e0a0d19c24352",
     "grade": false,
     "grade_id": "cell-33da3167fca0d468",
     "locked": true,
     "schema_version": 3,
     "solution": false,
     "task": false
    }
   },
   "source": [
    "# Homework - Grover MaxCut\n",
    "\n",
    "The places where you have enter code are marked with `# YOUR CODE HERE`."
   ]
  },
  {
   "cell_type": "code",
   "execution_count": 1,
   "metadata": {},
   "outputs": [],
   "source": [
    "import cirq\n",
    "from cirq import H, X, Y, Z, CX, CCZ, inverse"
   ]
  },
  {
   "cell_type": "markdown",
   "metadata": {
    "deletable": false,
    "editable": false,
    "nbgrader": {
     "cell_type": "markdown",
     "checksum": "3472598b6fdd1d56b50a9706c01827f8",
     "grade": false,
     "grade_id": "cell-d981eeb5458c0744",
     "locked": true,
     "schema_version": 3,
     "solution": false,
     "task": false
    }
   },
   "source": [
    "## Question 1 (4 points)\n",
    "\n",
    "Write a function, `oracle010`, that implements an oracle that marks the state $|010 \\rangle$. The function `oracle010` has\n",
    "\n",
    "* input: `qq`, a 3-qubit register \n",
    "* returns: `None`\n",
    "\n",
    "The function should append a sequence of gates to `qq` to mark the state $|010\\rangle$ only. Don't append any measurements to `qq`.\n",
    "\n",
    "To help you test the function, we have provided the `grover_diffusion` and `grover` functions."
   ]
  },
  {
   "cell_type": "code",
   "execution_count": 2,
   "metadata": {
    "deletable": false,
    "nbgrader": {
     "cell_type": "code",
     "checksum": "3234c674937c9ea97ec27157e9062acf",
     "grade": false,
     "grade_id": "cell-a08e811a0e1777c7",
     "locked": false,
     "schema_version": 3,
     "solution": true,
     "task": false
    }
   },
   "outputs": [],
   "source": [
    "def oracle010(qq):\n",
    "\n",
    "    # Mark the state |010>\n",
    "    yield X(qq[0])  \n",
    "    yield X(qq[2])  \n",
    "    \n",
    "    # Apply a controlled-Z gate with control on all qubits\n",
    "    yield H(qq[1])  # Apply Hadamard to the middle qubit\n",
    "    yield CCZ(qq[0], qq[2], qq[1])  # Controlled-Controlled-Z gate\n",
    "    yield H(qq[1])  # Apply Hadamard to the middle qubit again\n",
    "    \n",
    "    # Uncompute: flip the qubits back\n",
    "    yield X(qq[0])  # Flip the first qubit back\n",
    "    yield X(qq[2])  # Flip the third qubit back"
   ]
  },
  {
   "cell_type": "code",
   "execution_count": 3,
   "metadata": {},
   "outputs": [
    {
     "data": {
      "text/html": [
       "<pre style=\"overflow: auto; white-space: pre;\">0: ───X───@───X───\n",
       "          │\n",
       "1: ───H───@───H───\n",
       "          │\n",
       "2: ───X───@───X───</pre>"
      ],
      "text/plain": [
       "0: ───X───@───X───\n",
       "          │\n",
       "1: ───H───@───H───\n",
       "          │\n",
       "2: ───X───@───X───"
      ]
     },
     "execution_count": 3,
     "metadata": {},
     "output_type": "execute_result"
    }
   ],
   "source": [
    "# visualize your implemented gates\n",
    "qqTest = cirq.LineQubit.range(3)\n",
    "circuit = cirq.Circuit()\n",
    "circuit.append(oracle010(qqTest))\n",
    "circuit"
   ]
  },
  {
   "cell_type": "code",
   "execution_count": 4,
   "metadata": {},
   "outputs": [],
   "source": [
    "# To check your solution, we need some to implement grover\n",
    "def grover_diffusion(qq,n):\n",
    "    yield H.on_each(*qq)\n",
    "    yield X.on_each(*qq)\n",
    "    yield Z(qq[n-1]).controlled_by(*(qq[0:n-1]))\n",
    "    yield X.on_each(*qq)\n",
    "    yield H.on_each(*qq)"
   ]
  },
  {
   "cell_type": "code",
   "execution_count": 5,
   "metadata": {},
   "outputs": [],
   "source": [
    "def grover(trials_number):\n",
    "    n=3\n",
    "    qq = cirq.LineQubit.range(n)\n",
    "    circuit = cirq.Circuit()\n",
    "    circuit.append(H.on_each(*qq))  \n",
    "\n",
    "    for i in range(2):\n",
    "        circuit.append(oracle010(qq))\n",
    "        circuit.append(grover_diffusion(qq,n))\n",
    "    circuit.append(cirq.measure(*qq, key='result'))\n",
    "\n",
    "    # determine the statistics of the measurements\n",
    "    s = cirq.Simulator() \n",
    "    samples = s.run(circuit, repetitions=trials_number)\n",
    "\n",
    "    def bitstring(bits):\n",
    "        return \"\".join(str(int(b)) for b in bits)\n",
    "\n",
    "    counts = samples.histogram(key=\"result\",fold_func=bitstring)\n",
    "    print(counts)\n",
    "    return counts.get('010')"
   ]
  },
  {
   "cell_type": "code",
   "execution_count": 6,
   "metadata": {},
   "outputs": [
    {
     "name": "stdout",
     "output_type": "stream",
     "text": [
      "Counter({'111': 16, '000': 14, '011': 14, '001': 13, '100': 13, '110': 11, '101': 10, '010': 9})\n"
     ]
    },
    {
     "data": {
      "text/plain": [
       "9"
      ]
     },
     "execution_count": 6,
     "metadata": {},
     "output_type": "execute_result"
    }
   ],
   "source": [
    "# run grover to test if your function gives the right answer\n",
    "grover(100)"
   ]
  },
  {
   "cell_type": "code",
   "execution_count": 7,
   "metadata": {
    "deletable": false,
    "editable": false,
    "nbgrader": {
     "cell_type": "code",
     "checksum": "cf2c533cdb00d2a3feebe35eda382c3e",
     "grade": true,
     "grade_id": "cell-c892138426ad8ca2",
     "locked": true,
     "points": 4,
     "schema_version": 3,
     "solution": false,
     "task": false
    }
   },
   "outputs": [],
   "source": [
    "# hidden tests in this cell will be used for grading."
   ]
  },
  {
   "cell_type": "markdown",
   "metadata": {
    "deletable": false,
    "editable": false,
    "nbgrader": {
     "cell_type": "markdown",
     "checksum": "7f228055f783a050ae26ee080abbc49c",
     "grade": false,
     "grade_id": "cell-cd7b8bfe0163bb3c",
     "locked": true,
     "schema_version": 3,
     "solution": false,
     "task": false
    }
   },
   "source": [
    "## Question 2 (6 points)\n",
    "\n",
    "Graph $G$ has 5 vertices and 6 edges: (0,3), (0,4), (1,3), (1,4), (2,3), (2,4).\n",
    "\n",
    "Write an oracle for the graph $G$ to check whether it admits a valid 2-coloring. \n",
    "\n",
    "The function `oracle2` has\n",
    "\n",
    "* input: `qq`, a 12-qubit register \n",
    "* returns: `None`\n",
    "\n",
    "The function should append only a sequence of gates to `qq`. It should not append any measurements to `qq`.\n",
    "\n",
    "Use qubits 0-4 for the vertices, 5-10 for the edges and 11 as the ancilla. \n",
    "\n",
    "You can test the oracle with the provided `grover_diffusion`, `grover` and `oracle_computation2` functions."
   ]
  },
  {
   "cell_type": "code",
   "execution_count": 8,
   "metadata": {},
   "outputs": [],
   "source": [
    "qq = cirq.LineQubit.range(12)"
   ]
  },
  {
   "cell_type": "code",
   "execution_count": 9,
   "metadata": {},
   "outputs": [],
   "source": [
    "def edge_check(a,b,c):\n",
    "    yield CX(qq[a], qq[c])\n",
    "    yield CX(qq[b], qq[c])"
   ]
  },
  {
   "cell_type": "code",
   "execution_count": 10,
   "metadata": {
    "deletable": false,
    "nbgrader": {
     "cell_type": "code",
     "checksum": "16112e54c261f4b68868827304f15052",
     "grade": false,
     "grade_id": "cell-d0a829ac63d428cc",
     "locked": false,
     "schema_version": 3,
     "solution": true,
     "task": false
    }
   },
   "outputs": [],
   "source": [
    "def oracle2(qq):\n",
    "    yield edge_check(0,3,5)\n",
    "    yield edge_check(0,4,6)\n",
    "    yield edge_check(1,3,7)\n",
    "    yield edge_check(1,4,8)\n",
    "    yield edge_check(2,3,9)\n",
    "    yield edge_check(2,4,10)\n",
    "    "
   ]
  },
  {
   "cell_type": "code",
   "execution_count": 11,
   "metadata": {},
   "outputs": [],
   "source": [
    "# We need some code so you can check your solution\n",
    "def oracle_computation2(qq):\n",
    "    yield oracle2(qq)\n",
    "    yield Z(qq[11])\n",
    "    yield inverse(oracle2(qq))  "
   ]
  },
  {
   "cell_type": "code",
   "execution_count": 12,
   "metadata": {},
   "outputs": [],
   "source": [
    "def grover2(trials_number):    \n",
    "    import cirq\n",
    "    from cirq import X, H, Z, inverse, CX\n",
    "    s = cirq.Simulator()\n",
    "\n",
    "    qq = cirq.LineQubit.range(12)\n",
    "    n=5\n",
    "    \n",
    "    circuit = cirq.Circuit()\n",
    "    circuit.append(H.on_each(*(qq[0:n])))\n",
    "    for i in range(2):\n",
    "        circuit.append(oracle_computation2(qq))\n",
    "        circuit.append(grover_diffusion(qq,n))\n",
    "\n",
    "    circuit.append(cirq.measure(*(qq[0:n]), key='result'))\n",
    "\n",
    "    # determine the statistics of the measurements\n",
    "    samples = s.run(circuit, repetitions=trials_number)\n",
    "    result = samples.measurements[\"result\"]\n",
    "\n",
    "    def bitstring(bits):\n",
    "        return \"\".join(str(int(b)) for b in bits)\n",
    "\n",
    "    counts = samples.histogram(key=\"result\",fold_func=bitstring)\n",
    "    return counts"
   ]
  },
  {
   "cell_type": "code",
   "execution_count": 19,
   "metadata": {},
   "outputs": [
    {
     "data": {
      "text/plain": [
       "Counter({'01101': 41,\n",
       "         '11101': 37,\n",
       "         '11011': 37,\n",
       "         '01011': 37,\n",
       "         '01100': 37,\n",
       "         '01010': 36,\n",
       "         '01000': 36,\n",
       "         '00010': 35,\n",
       "         '01001': 35,\n",
       "         '00001': 33,\n",
       "         '11001': 33,\n",
       "         '10110': 33,\n",
       "         '00000': 32,\n",
       "         '10011': 32,\n",
       "         '10001': 32,\n",
       "         '01111': 31,\n",
       "         '00111': 31,\n",
       "         '11010': 31,\n",
       "         '10100': 31,\n",
       "         '01110': 30,\n",
       "         '11100': 30,\n",
       "         '00100': 29,\n",
       "         '00101': 29,\n",
       "         '00011': 29,\n",
       "         '10101': 29,\n",
       "         '11110': 27,\n",
       "         '10000': 26,\n",
       "         '10111': 25,\n",
       "         '10010': 25,\n",
       "         '11000': 25,\n",
       "         '00110': 24,\n",
       "         '11111': 22})"
      ]
     },
     "execution_count": 19,
     "metadata": {},
     "output_type": "execute_result"
    }
   ],
   "source": [
    "#You can use this cell to test your solution\n",
    "shots=1000\n",
    "grover2(shots)"
   ]
  },
  {
   "cell_type": "code",
   "execution_count": 15,
   "metadata": {
    "deletable": false,
    "editable": false,
    "nbgrader": {
     "cell_type": "code",
     "checksum": "4246ce18f04e859e5569cd7b80a1a3ee",
     "grade": true,
     "grade_id": "cell-f3af2ece23c10d8c",
     "locked": true,
     "points": 6,
     "schema_version": 3,
     "solution": false,
     "task": false
    }
   },
   "outputs": [],
   "source": [
    "# hidden tests in this cell will be used for grading."
   ]
  },
  {
   "cell_type": "markdown",
   "metadata": {
    "deletable": false,
    "editable": false,
    "nbgrader": {
     "cell_type": "markdown",
     "checksum": "4688464dab8ef5a5368bb0bb80dec0a2",
     "grade": false,
     "grade_id": "cell-70019a2ede111a61",
     "locked": true,
     "schema_version": 3,
     "solution": false,
     "task": false
    }
   },
   "source": [
    "## Question 3 (10 points)\n",
    "\n",
    "Graph $G$ has 4 vertices and 5 edges: (0,1), (0,2), (0,3), (1,2), (1,3)\n",
    "\n",
    "Write an oracle for the graph $G$ to check whether there exists a coloring with at least 4 edges connecting vertices with different colors.\n",
    "\n",
    "The function `oracle3` has\n",
    "\n",
    "* input: `qq`, a 13-qubit register \n",
    "* returns: `None`\n",
    "\n",
    "The function should append only a sequence of gates to `qq`. It should not append any measurements to `qq`.\n",
    "\n",
    "Use qubits \n",
    "- 0-3 for the vertices,\n",
    "- 4-8 for the edges,\n",
    "- 9-11 for the addition (remember we need three qubits here for addition unlike the last question), and\n",
    "- 12 as the ancilla.\n",
    "\n",
    "You can test the oracle with the provided `grover_diffusion`, `grover` and `oracle_computation3` functions."
   ]
  },
  {
   "cell_type": "code",
   "execution_count": 20,
   "metadata": {},
   "outputs": [],
   "source": [
    "qq = cirq.LineQubit.range(13)"
   ]
  },
  {
   "cell_type": "code",
   "execution_count": 21,
   "metadata": {
    "deletable": false,
    "nbgrader": {
     "cell_type": "code",
     "checksum": "143856f98ba27993913f66a2e3ee33cf",
     "grade": false,
     "grade_id": "cell-a88eeb3907a822ff",
     "locked": false,
     "schema_version": 3,
     "solution": true,
     "task": false
    }
   },
   "outputs": [],
   "source": [
    "def oracle3(qq):\n",
    "    yield edge_check(0,1,4)\n",
    "    yield edge_check(0,2,5)\n",
    "    yield edge_check(0,3,6)\n",
    "    yield edge_check(1,2,7)\n",
    "    yield edge_check(1,3,8)"
   ]
  },
  {
   "cell_type": "code",
   "execution_count": 22,
   "metadata": {},
   "outputs": [],
   "source": [
    "# We need some code so you can check your solution\n",
    "def oracle_computation3(qq):\n",
    "    yield oracle3(qq)\n",
    "    yield Z(qq[12])\n",
    "    yield inverse(oracle3(qq))  "
   ]
  },
  {
   "cell_type": "code",
   "execution_count": 23,
   "metadata": {},
   "outputs": [],
   "source": [
    "import cirq\n",
    "from cirq import X, H, Z, inverse, CX, CCX\n",
    "    \n",
    "def grover3(trials_number):    \n",
    "    s = cirq.Simulator()\n",
    "\n",
    "    qq = cirq.LineQubit.range(13)\n",
    "    n=4\n",
    "\n",
    "    circuit = cirq.Circuit()\n",
    "    circuit.append(H.on_each(*(qq[0:n])))\n",
    "    for i in range(2):\n",
    "        circuit.append(oracle_computation3(qq))\n",
    "        circuit.append(grover_diffusion(qq,n))\n",
    "\n",
    "    circuit.append(cirq.measure(*(qq[0:n]), key='result'))\n",
    "\n",
    "    # determine the statistics of the measurements\n",
    "    samples = s.run(circuit, repetitions=trials_number)\n",
    "    result = samples.measurements[\"result\"]\n",
    "\n",
    "    def bitstring(bits):\n",
    "        return \"\".join(str(int(b)) for b in bits)\n",
    "\n",
    "    counts = samples.histogram(key=\"result\",fold_func=bitstring)\n",
    "    return counts"
   ]
  },
  {
   "cell_type": "code",
   "execution_count": 27,
   "metadata": {},
   "outputs": [
    {
     "data": {
      "text/plain": [
       "Counter({'0100': 73,\n",
       "         '1101': 73,\n",
       "         '1110': 72,\n",
       "         '1010': 70,\n",
       "         '0001': 69,\n",
       "         '1111': 68,\n",
       "         '1001': 67,\n",
       "         '0011': 65,\n",
       "         '1100': 60,\n",
       "         '0010': 59,\n",
       "         '0110': 59,\n",
       "         '1000': 58,\n",
       "         '0101': 56,\n",
       "         '0000': 54,\n",
       "         '1011': 50,\n",
       "         '0111': 47})"
      ]
     },
     "execution_count": 27,
     "metadata": {},
     "output_type": "execute_result"
    }
   ],
   "source": [
    "#You can use this cell to test your solution\n",
    "shots=1000\n",
    "grover3(shots)"
   ]
  },
  {
   "cell_type": "code",
   "execution_count": 28,
   "metadata": {
    "deletable": false,
    "editable": false,
    "nbgrader": {
     "cell_type": "code",
     "checksum": "2fb4f23a2628baa5c4bbd53548198e9c",
     "grade": true,
     "grade_id": "cell-e70ddbb5f64a88b3",
     "locked": true,
     "points": 10,
     "schema_version": 3,
     "solution": false,
     "task": false
    }
   },
   "outputs": [],
   "source": [
    "# hidden tests in this cell will be used for grading."
   ]
  },
  {
   "cell_type": "code",
   "execution_count": null,
   "metadata": {},
   "outputs": [],
   "source": []
  },
  {
   "cell_type": "code",
   "execution_count": null,
   "metadata": {},
   "outputs": [],
   "source": []
  }
 ],
 "metadata": {
  "kernelspec": {
   "display_name": "Python 3 (ipykernel)",
   "language": "python",
   "name": "python3"
  },
  "language_info": {
   "codemirror_mode": {
    "name": "ipython",
    "version": 3
   },
   "file_extension": ".py",
   "mimetype": "text/x-python",
   "name": "python",
   "nbconvert_exporter": "python",
   "pygments_lexer": "ipython3",
   "version": "3.12.4"
  }
 },
 "nbformat": 4,
 "nbformat_minor": 4
}
